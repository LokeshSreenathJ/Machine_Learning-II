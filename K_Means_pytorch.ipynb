{
  "cells": [
    {
      "cell_type": "code",
      "execution_count": 1,
      "id": "9e9065d9",
      "metadata": {
        "id": "9e9065d9"
      },
      "outputs": [],
      "source": [
        "import torch\n",
        "import numpy as np\n",
        "import matplotlib.pyplot as plt"
      ]
    },
    {
      "cell_type": "code",
      "execution_count": 2,
      "id": "6fa0bb21",
      "metadata": {
        "id": "6fa0bb21"
      },
      "outputs": [],
      "source": [
        "def load_data():\n",
        "    N = 10\n",
        "    std = 0.5\n",
        "    torch.manual_seed(1)\n",
        "    x = torch.cat(\n",
        "        (\n",
        "            std * torch.randn(2, N) + torch.Tensor([[2], [-2]]),\n",
        "            std * torch.randn(2, N) + torch.Tensor([[-2], [2]]),\n",
        "        ),\n",
        "        1,\n",
        "    )\n",
        "    init_c = torch.Tensor([[2, -2], [2, -2]])\n",
        "    return x, init_c"
      ]
    },
    {
      "cell_type": "code",
      "execution_count": 3,
      "id": "58397787",
      "metadata": {
        "id": "58397787"
      },
      "outputs": [],
      "source": [
        "x_data,b =load_data()"
      ]
    },
    {
      "cell_type": "code",
      "execution_count": 4,
      "id": "83c1a3f7",
      "metadata": {
        "id": "83c1a3f7"
      },
      "outputs": [],
      "source": [
        "\n",
        "def k_means(X=None, init_c=None, n_iters=50):\n",
        "    \"\"\"K-Means.\n",
        "\n",
        "    Argument:\n",
        "        X: 2D data points, shape [2, N].\n",
        "        init_c: initial centroids, shape [2, 2]. Each column is a centroid.\n",
        "    \n",
        "    Return:\n",
        "        c: shape [2, 2]. Each column is a centroid.\n",
        "    \"\"\"\n",
        "\n",
        "    if X is None:\n",
        "        X, init_c = hw1_utils.load_data()\n",
        "    def assign_datapoint(x, mean):\n",
        "        distance = torch.tensor([])\n",
        "        for i in range(mean.shape[1]):\n",
        "            distance = torch.cat((torch.sqrt(torch.sum(torch.square(x.reshape(2,1)-(mean[:,i]).reshape(2,1)))).view(-1), distance))\n",
        "        idx1 = torch.argsort(distance)\n",
        "        return idx1[0]\n",
        "    def cluster_centroid(clusters):\n",
        "        mean = torch.mean(clusters, axis = 1)\n",
        "        return mean\n",
        "    def cost_func(cluster_1,cluster_2,c):\n",
        "        cost = torch.tensor([0.0])\n",
        "        for i in range(cluster_1.shape[1]):\n",
        "            cost = cost + torch.sqrt(torch.sum(torch.square(c[:,0].reshape(2,1)-cluster_1[:,i].reshape(2,1))))\n",
        "        for j in range(cluster_2.shape[1]):\n",
        "            cost = cost + torch.sqrt(torch.sum(torch.square(c[:,1].reshape(2,1)-cluster_2[:,j].reshape(2,1))))\n",
        "        return float(cost/2)\n",
        "    cluster_1 = torch.tensor([])\n",
        "    cluster_2 = torch.tensor([])\n",
        "    c= init_c\n",
        "    prev_cost = 0\n",
        "    count = 1\n",
        "    for i in range(n_iters):\n",
        "        cluster_1 = torch.tensor([])\n",
        "        cluster_2 = torch.tensor([])\n",
        "        for j in range(X.shape[1]):\n",
        "            idx = assign_datapoint(X[:,j].reshape(2,1),c)\n",
        "            if idx ==1:\n",
        "                cluster_1 = torch.cat((cluster_1,X[:,j].reshape(2,1)),1)\n",
        "            else:\n",
        "                cluster_2 = torch.cat((cluster_2,X[:,j].reshape(2,1)),1)\n",
        "        if cluster_1.shape[0] == 0:\n",
        "            mean_1 = torch.zeros([2,1]).reshape(2,1)\n",
        "        else:\n",
        "            mean_1 = torch.mean(cluster_1, axis = 1).reshape(2,1)\n",
        "        if cluster_2.shape[0]== 0:\n",
        "            mean_2 = torch.zeros([2,1]).reshape(2,1)\n",
        "        else:\n",
        "            mean_2 = torch.mean(cluster_2, axis = 1).reshape(2,1)\n",
        "        c = torch.cat((mean_1,mean_2),1)\n",
        "        cost = cost_func(cluster_1,cluster_2,c)\n",
        "        if prev_cost == cost:\n",
        "            print(\"converged\"+ str(i))\n",
        "            break\n",
        "        else:\n",
        "            prev_cost = cost\n",
        "    return cluster_1,cluster_2\n"
      ]
    },
    {
      "cell_type": "code",
      "execution_count": 13,
      "id": "87a4dcf8",
      "metadata": {
        "colab": {
          "base_uri": "https://localhost:8080/"
        },
        "id": "87a4dcf8",
        "outputId": "e2fe70d4-11d3-4894-fa9f-f95b8b1c313f"
      },
      "outputs": [
        {
          "output_type": "stream",
          "name": "stdout",
          "text": [
            "converged2\n"
          ]
        }
      ],
      "source": [
        "cluster_1,cluster_2 =k_means(x_data,b,100)\n"
      ]
    },
    {
      "cell_type": "code",
      "execution_count": 12,
      "id": "2029f763",
      "metadata": {
        "colab": {
          "base_uri": "https://localhost:8080/",
          "height": 452
        },
        "id": "2029f763",
        "outputId": "0fdbce48-76e7-4a27-f691-6ebf5914815d"
      },
      "outputs": [
        {
          "output_type": "display_data",
          "data": {
            "text/plain": [
              "<Figure size 640x480 with 1 Axes>"
            ],
            "image/png": "[encoded data removed]"
          },
          "metadata": {}
        }
      ],
      "source": [
        "plt.scatter(cluster_1[0],cluster_1[1], color = \"orange\")\n",
        "plt.scatter(cluster_2[0], cluster_2[1], color = \"blue\")\n",
        "plt.title(\"Visualization of K-Means output\")\n",
        "plt.show()"
      ]
    }
  ],
  "metadata": {
    "kernelspec": {
      "display_name": "Python 3 (ipykernel)",
      "language": "python",
      "name": "python3"
    },
    "language_info": {
      "codemirror_mode": {
        "name": "ipython",
        "version": 3
      },
      "file_extension": ".py",
      "mimetype": "text/x-python",
      "name": "python",
      "nbconvert_exporter": "python",
      "pygments_lexer": "ipython3",
      "version": "3.9.12"
    },
    "colab": {
      "provenance": []
    }
  },
  "nbformat": 4,
  "nbformat_minor": 5
}